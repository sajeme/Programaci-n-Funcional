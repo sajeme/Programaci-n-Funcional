{
 "cells": [
  {
   "cell_type": "markdown",
   "id": "3e1dde6b",
   "metadata": {},
   "source": [
    "# Proyecto 02 TLP"
   ]
  },
  {
   "cell_type": "markdown",
   "id": "446c2ee0",
   "metadata": {},
   "source": [
    "## Ejercicio 1\n",
    "### Defina la función B que calcule los coeficientes binomiales B(n,k) = n!/((n-k)!*k! para n>=0, y 0<=k<=n\n",
    "### El proposito es devolver el calculo del coeficiente binomial.\n",
    "* **Entrada: (coefbin 9 5)**\n",
    "* **Salida: 126**"
   ]
  },
  {
   "cell_type": "code",
   "execution_count": 101,
   "id": "b56a7e2f",
   "metadata": {},
   "outputs": [],
   "source": [
    "(define (aux n); funcion para sacar factorial\n",
    "  (cond\n",
    "    [(= n 0) 0]\n",
    "    [(= n 1) 1]\n",
    "    [else (* (aux (- n 1)) n)]))\n",
    "\n",
    "(define (coefbin n k)\n",
    "  (cond\n",
    "      [(< n 0) (error \"valor de la n incorrecto\")];verificacion de que n > 0\n",
    "      [(or (< k 0) (> k n)) (error \"valor de la k incorrecto\")]; verificacion que k>0 y k>n\n",
    "      [else (/ (aux n) (* (aux (- n k)) (aux k)))]; si ni uno de los otros es se realiza el procedimiento\n",
    "   )\n",
    "  )"
   ]
  },
  {
   "cell_type": "code",
   "execution_count": 102,
   "id": "0bbfb08f",
   "metadata": {},
   "outputs": [
    {
     "data": {
      "text/html": [
       "<code>126</code>"
      ],
      "text/plain": [
       "126"
      ]
     },
     "execution_count": 102,
     "metadata": {},
     "output_type": "execute_result"
    }
   ],
   "source": [
    "(coefbin 9 5)"
   ]
  },
  {
   "cell_type": "markdown",
   "id": "5f7ca0a5",
   "metadata": {},
   "source": [
    "## Ejercicio 2\n",
    "### Defina una función para la evaluación del número combinatorio C(n,k), que utiliza la definición recursiva.\n",
    "### El proposito de la función es encontrar el resultado de una combinación de 2 datos\n",
    "* **Entrada: (Combinatorio 29 5)**\n",
    "* **Salida: 118755**\n",
    "$C(n,0)=1, C(n,n)=1$\n",
    "$C(n,k)= C(n-,k-1), n>=0,k>=0, n>=k$"
   ]
  },
  {
   "cell_type": "code",
   "execution_count": 103,
   "id": "99f0fcb1",
   "metadata": {},
   "outputs": [],
   "source": [
    "(define (Combinatorio n k)\n",
    "        (cond\n",
    "          [(= k 0) 1]\n",
    "          [(= n k) 1]\n",
    "          [(and (and (>= n 0) (>= k 0)) (>= n k))\n",
    "           (+ (Combinatorio (- n 1) (- k 1)) (Combinatorio (- n 1) k)) \n",
    "           ]\n",
    "          [else 0]\n",
    "          )\n",
    "  )"
   ]
  },
  {
   "cell_type": "code",
   "execution_count": 104,
   "id": "d5f92fd8",
   "metadata": {},
   "outputs": [
    {
     "data": {
      "text/html": [
       "<code>118755</code>"
      ],
      "text/plain": [
       "118755"
      ]
     },
     "execution_count": 104,
     "metadata": {},
     "output_type": "execute_result"
    }
   ],
   "source": [
    "(Combinatorio 29 5)"
   ]
  },
  {
   "cell_type": "markdown",
   "id": "82699de0",
   "metadata": {},
   "source": [
    "## Ejercicio 3\n",
    "### Defina una función recursiva para calcular el Máximo Común Divisor de dos enteros negativos a y b con a < b usando el hecho de que MCD(a, b) = MCD(a, b-a).\n",
    "### Se busca el MCD de 2 elementos que cumplan 2 condiciones, que sean negativos y además que el primer dato sea menor al segundo.\n",
    "* **Entrada: (MCD -8 -3)**\n",
    "* **Salida: 1**"
   ]
  },
  {
   "cell_type": "code",
   "execution_count": 105,
   "id": "a14f8cb5",
   "metadata": {},
   "outputs": [],
   "source": [
    "(define (MCD a b)\n",
    "  (if (and (< a 0) (< b 0)) (MCD (* -1 a) (* -1 b)) \n",
    "    (cond\n",
    "      [(> a b) (MCD b (- a b))]   \n",
    "      [(< a b) (MCD a (- b a))]     \n",
    "      [else  a]\n",
    "    )\n",
    "    )\n",
    ")"
   ]
  },
  {
   "cell_type": "code",
   "execution_count": 106,
   "id": "1d33b17c",
   "metadata": {},
   "outputs": [
    {
     "data": {
      "text/html": [
       "<code>1</code>"
      ],
      "text/plain": [
       "1"
      ]
     },
     "execution_count": 106,
     "metadata": {},
     "output_type": "execute_result"
    }
   ],
   "source": [
    "(MCD -8 -3)"
   ]
  },
  {
   "cell_type": "markdown",
   "id": "265c96da",
   "metadata": {},
   "source": [
    "## Ejercicio 4\n",
    "### Definir una función que devuelva, en una lista, todos los números primos desde un número inicial hasta un número final.\n",
    "### Se crea una función que nos arroje una lista de números primos que esten entre el primer y segundo dato ingresados.\n",
    "* **Entrada: (num-primos  3 10)**\n",
    "* **Salida: ‘(3 5 7)**"
   ]
  },
  {
   "cell_type": "code",
   "execution_count": 107,
   "id": "334eb0f8",
   "metadata": {},
   "outputs": [],
   "source": [
    "(define (num-primos a b)\n",
    "  (cond\n",
    "    ((> a b) '())\n",
    "    ((primo? a) (cons a (num-primos (+ a 1) b)))\n",
    "    (else (num-primos (+ a 1) b))\n",
    "    )\n",
    "  )\n",
    "\n",
    "(define (primo? n)\n",
    "  (let loop ((d 2))\n",
    "    (cond ((= n 1) #f)\n",
    "          ((< n (* d d)) #t)\n",
    "          ((zero? (modulo n d)) #f)\n",
    "          (else (loop (+ d 1)))\n",
    "          )\n",
    "    )\n",
    "  )"
   ]
  },
  {
   "cell_type": "code",
   "execution_count": 108,
   "id": "58d3fdb2",
   "metadata": {},
   "outputs": [
    {
     "data": {
      "text/html": [
       "<code>'(3 5 7)</code>"
      ],
      "text/plain": [
       "'(3 5 7)"
      ]
     },
     "execution_count": 108,
     "metadata": {},
     "output_type": "execute_result"
    }
   ],
   "source": [
    "(num-primos  3 10)"
   ]
  },
  {
   "cell_type": "markdown",
   "id": "672ab158",
   "metadata": {},
   "source": [
    "## Ejercicio 5\n",
    "### Realizar una función para hallar el valor de e definiéndola como sigue:\n",
    "### $e=(1/0!)+(1/1!)+(1/2!)+(1/3!)+...$\n",
    "### Se crea una función que nos permita encontrar el valor factorial de una fracción.\n",
    "* **Entrada: (e 3)**\n",
    "* **Salida: 8/3**"
   ]
  },
  {
   "cell_type": "code",
   "execution_count": 109,
   "id": "1d6dd55b",
   "metadata": {
    "scrolled": true
   },
   "outputs": [],
   "source": [
    "(define (e n)\n",
    "  (if (= n 0)\n",
    "      1\n",
    "    (+ (/ 1 (aux n )) (e(- n 1)))\n",
    "    ))\n",
    "\n",
    "(define (aux n)\n",
    "  (cond\n",
    "    [(= n 0) 0]\n",
    "    [(= n 1) 1]\n",
    "    [else (* (aux (- n 1)) n)]))\n",
    "    "
   ]
  },
  {
   "cell_type": "code",
   "execution_count": 110,
   "id": "801c2e47",
   "metadata": {},
   "outputs": [
    {
     "data": {
      "text/html": [
       "<code>8/3</code>"
      ],
      "text/plain": [
       "8/3"
      ]
     },
     "execution_count": 110,
     "metadata": {},
     "output_type": "execute_result"
    }
   ],
   "source": [
    "(e 3)"
   ]
  },
  {
   "cell_type": "markdown",
   "id": "46f008db",
   "metadata": {},
   "source": [
    "## Ejercicio 6\n",
    "### Realizar una función que indique la longitud de una lista.\n",
    "### Determina la longitud exacta de una lista ingresada.\n",
    "* **Entrada: (len '(2 4 5))**\n",
    "* **Salida: 3**"
   ]
  },
  {
   "cell_type": "code",
   "execution_count": 111,
   "id": "bd5bf36a",
   "metadata": {},
   "outputs": [],
   "source": [
    "(define (len lst)\n",
    "(if (null? lst) 0 (+ 1 (len (cdr lst))))\n",
    "  );Si la lista no esta vacia, se suma 1 y vuelve a llamar a la lista sin el primer elemento y se vuelve a preguntar"
   ]
  },
  {
   "cell_type": "code",
   "execution_count": 112,
   "id": "424a2b20",
   "metadata": {},
   "outputs": [
    {
     "data": {
      "text/html": [
       "<code>3</code>"
      ],
      "text/plain": [
       "3"
      ]
     },
     "execution_count": 112,
     "metadata": {},
     "output_type": "execute_result"
    }
   ],
   "source": [
    "(len '(2 4 5))"
   ]
  },
  {
   "cell_type": "markdown",
   "id": "a3241a90",
   "metadata": {},
   "source": [
    "## Ejercicio 7\n",
    "### Realizar una función para buscar un elemento en una lista, regresar #t si lo encontró y #f si no lo encontró.\n",
    "### Una función que nos permite determinar si un valor que deseamos se encuentra en una lista ya definida\n",
    "* **Entrada: (busca 4 '(2 4 5))**\n",
    "* **Salida: #t**"
   ]
  },
  {
   "cell_type": "code",
   "execution_count": 113,
   "id": "665dfc90",
   "metadata": {},
   "outputs": [],
   "source": [
    "(define (busca n lst)\n",
    "  (if(null? lst)  #f (if(eq? (car lst) n) #t (busca n (cdr lst))) ;Primero se pregunta si la lista esta vacia, si es false se pregunta si el primer elemento\n",
    "                    ;es el buscado, si tambien es falso se vuelve a llamar a la funcion sin el primer elemento de la lista\n",
    "      )\n",
    "  )"
   ]
  },
  {
   "cell_type": "code",
   "execution_count": 114,
   "id": "7c7cd01c",
   "metadata": {},
   "outputs": [
    {
     "data": {
      "text/html": [
       "<code>#t</code>"
      ],
      "text/plain": [
       "#t"
      ]
     },
     "execution_count": 114,
     "metadata": {},
     "output_type": "execute_result"
    }
   ],
   "source": [
    "(busca 4'(2 4 5))"
   ]
  },
  {
   "cell_type": "markdown",
   "id": "8763ab63",
   "metadata": {},
   "source": [
    "## Ejercicio 8\n",
    "### Realizar una función recursiva en Lisp que invierta una lista.\n",
    "### Función creada con el único proposito de devolver una lista invertida.\n",
    "* **Entrada: (invierte '(2 4 5))**\n",
    "* **Salida: '(5 4 2)**"
   ]
  },
  {
   "cell_type": "code",
   "execution_count": 115,
   "id": "e82e2992",
   "metadata": {},
   "outputs": [],
   "source": [
    "(define (invierte lis)\n",
    "   (if (null? lis)\n",
    "       '()\n",
    "       (append (invierte (cdr lis));si la lista no est{a vacia, se usa append para concatenar lo que queda de la lista sin el primer elemento +\n",
    "               (list (car lis)))));el elemento sacado"
   ]
  },
  {
   "cell_type": "code",
   "execution_count": 116,
   "id": "8e817513",
   "metadata": {},
   "outputs": [
    {
     "data": {
      "text/html": [
       "<code>'(5 4 2)</code>"
      ],
      "text/plain": [
       "'(5 4 2)"
      ]
     },
     "execution_count": 116,
     "metadata": {},
     "output_type": "execute_result"
    }
   ],
   "source": [
    "(invierte '(2 4 5))"
   ]
  },
  {
   "cell_type": "markdown",
   "id": "4852066c",
   "metadata": {},
   "source": [
    "## Ejercicio 9\n",
    "### Realizar una función que elimine un elemento de una lista.\n",
    "### De una lista númerica se pide eliminar un elemento que se encuentre en ella.\n",
    "* **Entrada: (elimina 4 '(2 4 5))**\n",
    "* **Salida: '(2 5)**"
   ]
  },
  {
   "cell_type": "code",
   "execution_count": 117,
   "id": "a38ba26b",
   "metadata": {},
   "outputs": [],
   "source": [
    "(define (elimina n list) \n",
    "  (cond \n",
    "    ((null? list) '()) ; no devuelve nada si esta vacia\n",
    "    ((equal? n (car list)) (cdr list)) ; si se encuentra el dato se imprime lo que quede de la lista, es decir se concatena con la parte de abajo\n",
    "    (else (cons (car list) (elimina n (cdr list))))));si no se encuentra el dato se imprime el dato evaluado y se vuelve a llamar a la funcion"
   ]
  },
  {
   "cell_type": "code",
   "execution_count": 118,
   "id": "509e26da",
   "metadata": {},
   "outputs": [
    {
     "data": {
      "text/html": [
       "<code>'(2 5)</code>"
      ],
      "text/plain": [
       "'(2 5)"
      ]
     },
     "execution_count": 118,
     "metadata": {},
     "output_type": "execute_result"
    }
   ],
   "source": [
    "(elimina 4 '(2 4 5))"
   ]
  },
  {
   "cell_type": "markdown",
   "id": "129a4ae2",
   "metadata": {},
   "source": [
    "## Ejercicio 10\n",
    "### Defina una función para calcular la desviación estándar de un conjunto de datos(lista).\n",
    "### Se crea una función que nos devuelva el valor de la desviación estandar con los datos ingresados\n",
    "* **Entrada: (desv-std '(2 4 5))**\n",
    "* **Salida: (1.247219128924647)**"
   ]
  },
  {
   "cell_type": "code",
   "execution_count": 119,
   "id": "f3259fb8",
   "metadata": {},
   "outputs": [],
   "source": [
    "(define (desv-std lst); en esta parte se sigue tal cual la formula\n",
    "    (sqrt\n",
    "        (/  \n",
    "            (squaresumm lst (media lst)); aca se busca obtener el resultado de la sumatoria, se toma la lista y se calcula la media\n",
    "            (len lst); se saca la longitud de la lista\n",
    "        )\n",
    "    )\n",
    ")\n",
    "\n",
    "(define (media lst);se saca la media de la lista para la sumatoria\n",
    "  (/ (sum lst) (len lst)))\n",
    "\n",
    "\n",
    "(define (sum lst); ocurre la suma de todos los elementos\n",
    "  (if (null? lst) 0\n",
    "     (+ (car lst) (sum (cdr lst)))\n",
    "  )\n",
    ")\n",
    "\n",
    "(define (squaresumm lst avg)\n",
    "    (if\n",
    "        (null? lst);si la lista esta vacia se suma 0 y para la recursion\n",
    "        0\n",
    "        (+\n",
    "         (pot (- (car lst) avg) 2);si no esta vacia el primer dato de la lista se resta a la media y se eleva al cuadra, luego se vuelve a llamar a la misma funcion\n",
    "            (squaresumm (cdr lst) avg);sin el primer datos\n",
    "        )\n",
    "    )\n",
    ")\n",
    "\n",
    "(define (pot base exp);funcion para sacar el cuadro de la resta del dato y la media\n",
    "  (if (= exp 0) 1 (* base (pot base (- exp 1))))\n",
    ")\n",
    "\n",
    "(define (len list);funcion para sacar la longitud de la lista\n",
    "(if (null? list) 0 (+ 1 (len (cdr list))))\n",
    "  )"
   ]
  },
  {
   "cell_type": "code",
   "execution_count": 120,
   "id": "2716dd39",
   "metadata": {},
   "outputs": [
    {
     "data": {
      "text/html": [
       "<code>1.247219128924647</code>"
      ],
      "text/plain": [
       "1.247219128924647"
      ]
     },
     "execution_count": 120,
     "metadata": {},
     "output_type": "execute_result"
    }
   ],
   "source": [
    "(desv-std '(2 4 5))"
   ]
  }
 ],
 "metadata": {
  "kernelspec": {
   "display_name": "Racket",
   "language": "racket",
   "name": "racket"
  },
  "language_info": {
   "codemirror_mode": "scheme",
   "file_extension": ".rkt",
   "mimetype": "text/x-racket",
   "name": "Racket",
   "pygments_lexer": "racket",
   "version": "8.4"
  }
 },
 "nbformat": 4,
 "nbformat_minor": 5
}
